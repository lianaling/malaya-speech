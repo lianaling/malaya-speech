{
 "cells": [
  {
   "cell_type": "code",
   "execution_count": 1,
   "id": "cdd63e33",
   "metadata": {},
   "outputs": [],
   "source": [
    "import os\n",
    "\n",
    "os.environ['CUDA_VISIBLE_DEVICES'] = ''"
   ]
  },
  {
   "cell_type": "code",
   "execution_count": 2,
   "id": "ab2344b6",
   "metadata": {},
   "outputs": [],
   "source": [
    "import transformers\n",
    "from transformers import (\n",
    "    Wav2Vec2ForPreTraining,\n",
    "    Wav2Vec2FeatureExtractor,\n",
    ")\n",
    "from scipy.special import log_softmax"
   ]
  },
  {
   "cell_type": "code",
   "execution_count": 4,
   "id": "fd62033d",
   "metadata": {},
   "outputs": [],
   "source": [
    "feature_extractor = Wav2Vec2FeatureExtractor.from_pretrained('./wav2vec2-mini/checkpoint-270000')"
   ]
  },
  {
   "cell_type": "code",
   "execution_count": 5,
   "id": "822ee172",
   "metadata": {},
   "outputs": [],
   "source": [
    "model = Wav2Vec2ForPreTraining.from_pretrained('./wav2vec2-mini/checkpoint-270000')"
   ]
  },
  {
   "cell_type": "code",
   "execution_count": 6,
   "id": "b7be429e",
   "metadata": {},
   "outputs": [],
   "source": [
    "feature_extractor.push_to_hub('pretrained-wav2vec2-mini-mixed', organization='mesolitica')"
   ]
  },
  {
   "cell_type": "code",
   "execution_count": 7,
   "id": "92376ccb",
   "metadata": {},
   "outputs": [
    {
     "data": {
      "application/vnd.jupyter.widget-view+json": {
       "model_id": "9994b5662aca43969b2abd4effe067e1",
       "version_major": 2,
       "version_minor": 0
      },
      "text/plain": [
       "Upload file pytorch_model.bin:   0%|          | 4.00k/32.7M [00:00<?, ?B/s]"
      ]
     },
     "metadata": {},
     "output_type": "display_data"
    },
    {
     "name": "stderr",
     "output_type": "stream",
     "text": [
      "remote: Enforcing permissions...        \n",
      "remote: Allowed refs: all        \n",
      "To https://huggingface.co/mesolitica/pretrained-wav2vec2-mini-mixed\n",
      "   79b6d75..c07cd81  main -> main\n",
      "\n"
     ]
    },
    {
     "data": {
      "text/plain": [
       "'https://huggingface.co/mesolitica/pretrained-wav2vec2-mini-mixed/commit/c07cd816cbc2f6a307248b5028b5b8cb8bf244db'"
      ]
     },
     "execution_count": 7,
     "metadata": {},
     "output_type": "execute_result"
    }
   ],
   "source": [
    "model.push_to_hub('pretrained-wav2vec2-mini-mixed', organization='mesolitica')"
   ]
  },
  {
   "cell_type": "code",
   "execution_count": 8,
   "id": "a67317fb",
   "metadata": {},
   "outputs": [
    {
     "name": "stdout",
     "output_type": "stream",
     "text": [
      "[main 23373d4] add tensorboard\n",
      " 3 files changed, 8 insertions(+), 2 deletions(-)\n",
      " create mode 100644 runs/Jun07_23-13-00_huseincomel-desktop/1654614788.064707/events.out.tfevents.1654614788.huseincomel-desktop.7204.1\n",
      " create mode 100644 runs/Jun07_23-13-00_huseincomel-desktop/events.out.tfevents.1654614788.huseincomel-desktop.7204.0\n",
      "Uploading LFS objects: 100% (3/3), 448 KB | 165 KB/s, done.                     \n",
      "Enumerating objects: 13, done.\n",
      "Counting objects: 100% (13/13), done.\n",
      "Delta compression using up to 16 threads\n",
      "Compressing objects: 100% (9/9), done.\n",
      "Writing objects: 100% (9/9), 986 bytes | 493.00 KiB/s, done.\n",
      "Total 9 (delta 2), reused 0 (delta 0)\n",
      "remote: Enforcing permissions...\u001b[K\n",
      "remote: Allowed refs: all\u001b[K\n",
      "To https://huggingface.co/mesolitica/pretrained-wav2vec2-mini-mixed\n",
      "   c07cd81..23373d4  main -> main\n"
     ]
    }
   ],
   "source": [
    "!cp -r wav2vec2-mini/runs pretrained-wav2vec2-mini-mixed\n",
    "!cd pretrained-wav2vec2-mini-mixed && git add . && git commit -m 'add tensorboard' && git push"
   ]
  },
  {
   "cell_type": "code",
   "execution_count": null,
   "id": "c632a3ab",
   "metadata": {},
   "outputs": [],
   "source": []
  }
 ],
 "metadata": {
  "kernelspec": {
   "display_name": "Python 3 (ipykernel)",
   "language": "python",
   "name": "python3"
  },
  "language_info": {
   "codemirror_mode": {
    "name": "ipython",
    "version": 3
   },
   "file_extension": ".py",
   "mimetype": "text/x-python",
   "name": "python",
   "nbconvert_exporter": "python",
   "pygments_lexer": "ipython3",
   "version": "3.8.10"
  }
 },
 "nbformat": 4,
 "nbformat_minor": 5
}
