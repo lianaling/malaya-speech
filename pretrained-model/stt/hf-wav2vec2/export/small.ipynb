{
 "cells": [
  {
   "cell_type": "code",
   "execution_count": 1,
   "id": "cdd63e33",
   "metadata": {},
   "outputs": [],
   "source": [
    "import os\n",
    "\n",
    "os.environ['CUDA_VISIBLE_DEVICES'] = ''"
   ]
  },
  {
   "cell_type": "code",
   "execution_count": 2,
   "id": "ab2344b6",
   "metadata": {},
   "outputs": [],
   "source": [
    "import transformers\n",
    "from transformers import (\n",
    "    Wav2Vec2ForPreTraining,\n",
    "    Wav2Vec2FeatureExtractor,\n",
    ")\n",
    "from scipy.special import log_softmax"
   ]
  },
  {
   "cell_type": "code",
   "execution_count": 3,
   "id": "b67f1db6",
   "metadata": {},
   "outputs": [
    {
     "name": "stdout",
     "output_type": "stream",
     "text": [
      "checkpoint-438000  checkpoint-440000  checkpoint-442000\t\truns\r\n",
      "checkpoint-439000  checkpoint-441000  preprocessor_config.json\r\n"
     ]
    }
   ],
   "source": [
    "!ls ./wav2vec2-small"
   ]
  },
  {
   "cell_type": "code",
   "execution_count": 4,
   "id": "fd62033d",
   "metadata": {},
   "outputs": [],
   "source": [
    "feature_extractor = Wav2Vec2FeatureExtractor.from_pretrained('./wav2vec2-small/checkpoint-442000')"
   ]
  },
  {
   "cell_type": "code",
   "execution_count": 5,
   "id": "822ee172",
   "metadata": {},
   "outputs": [],
   "source": [
    "model = Wav2Vec2ForPreTraining.from_pretrained('./wav2vec2-small/checkpoint-442000')"
   ]
  },
  {
   "cell_type": "code",
   "execution_count": 6,
   "id": "b7be429e",
   "metadata": {},
   "outputs": [],
   "source": [
    "feature_extractor.push_to_hub('pretrained-wav2vec2-small-mixed', organization='mesolitica')"
   ]
  },
  {
   "cell_type": "code",
   "execution_count": 7,
   "id": "92376ccb",
   "metadata": {},
   "outputs": [
    {
     "data": {
      "application/vnd.jupyter.widget-view+json": {
       "model_id": "17fda61bde524fc7943b29dafd9970c9",
       "version_major": 2,
       "version_minor": 0
      },
      "text/plain": [
       "Upload file pytorch_model.bin:   0%|          | 4.00k/99.6M [00:00<?, ?B/s]"
      ]
     },
     "metadata": {},
     "output_type": "display_data"
    },
    {
     "name": "stderr",
     "output_type": "stream",
     "text": [
      "To https://huggingface.co/mesolitica/pretrained-wav2vec2-small-mixed\n",
      "   f3a677c..e9191fa  main -> main\n",
      "\n"
     ]
    },
    {
     "data": {
      "text/plain": [
       "'https://huggingface.co/mesolitica/pretrained-wav2vec2-small-mixed/commit/e9191faf6477a0c5dd2b9f4570a4962f2f972d5c'"
      ]
     },
     "execution_count": 7,
     "metadata": {},
     "output_type": "execute_result"
    }
   ],
   "source": [
    "model.push_to_hub('pretrained-wav2vec2-small-mixed', organization='mesolitica')"
   ]
  },
  {
   "cell_type": "code",
   "execution_count": 8,
   "id": "a67317fb",
   "metadata": {},
   "outputs": [
    {
     "name": "stdout",
     "output_type": "stream",
     "text": [
      "[main ec9ca94] add tensorboard\n",
      " 1 file changed, 2 insertions(+), 2 deletions(-)\n",
      "Uploading LFS objects: 100% (1/1), 712 KB | 275 KB/s, done.                     \n",
      "Enumerating objects: 9, done.\n",
      "Counting objects: 100% (9/9), done.\n",
      "Delta compression using up to 16 threads\n",
      "Compressing objects: 100% (5/5), done.\n",
      "Writing objects: 100% (5/5), 497 bytes | 497.00 KiB/s, done.\n",
      "Total 5 (delta 2), reused 0 (delta 0)\n",
      "To https://huggingface.co/mesolitica/pretrained-wav2vec2-small-mixed\n",
      "   e9191fa..ec9ca94  main -> main\n"
     ]
    }
   ],
   "source": [
    "!cp -r wav2vec2-small/runs pretrained-wav2vec2-small-mixed\n",
    "!cd pretrained-wav2vec2-small-mixed && git add . && git commit -m 'add tensorboard' && git push"
   ]
  },
  {
   "cell_type": "code",
   "execution_count": null,
   "id": "36e32a7c",
   "metadata": {},
   "outputs": [],
   "source": []
  }
 ],
 "metadata": {
  "kernelspec": {
   "display_name": "Python 3 (ipykernel)",
   "language": "python",
   "name": "python3"
  },
  "language_info": {
   "codemirror_mode": {
    "name": "ipython",
    "version": 3
   },
   "file_extension": ".py",
   "mimetype": "text/x-python",
   "name": "python",
   "nbconvert_exporter": "python",
   "pygments_lexer": "ipython3",
   "version": "3.8.10"
  }
 },
 "nbformat": 4,
 "nbformat_minor": 5
}
