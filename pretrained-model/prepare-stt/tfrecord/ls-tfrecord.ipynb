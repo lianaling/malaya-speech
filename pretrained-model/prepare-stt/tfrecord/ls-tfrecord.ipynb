{
 "cells": [
  {
   "cell_type": "code",
   "execution_count": 19,
   "metadata": {},
   "outputs": [],
   "source": [
    "# Define constant sampling rate\n",
    "# Load files from csv\n",
    "# Append each audio and label as one pair to list\n",
    "# Convert from flac to wav\n",
    "# Write each pair to tfrecord using writer"
   ]
  },
  {
   "cell_type": "code",
   "execution_count": 20,
   "metadata": {},
   "outputs": [],
   "source": [
    "# Define constants\n",
    "\n",
    "sr = 16000\n",
    "maxlen = 18\n",
    "maxlen_subwords = 100\n",
    "minlen_text = 1\n",
    "global_count = 0"
   ]
  },
  {
   "cell_type": "code",
   "execution_count": 30,
   "metadata": {},
   "outputs": [
    {
     "name": "stdout",
     "output_type": "stream",
     "text": [
      "C:\\Users\\liana\\Documents\\Projects\\malaya-speech\\pretrained-model\\data\\LibriSpeech\\train-clean-100\\103\\1240\\103-1240-0000.flac\n",
      "<pydub.audio_segment.AudioSegment object at 0x0000015842697B80>\n"
     ]
    },
    {
     "ename": "PermissionError",
     "evalue": "[Errno 13] Permission denied: 'C:\\\\Users\\\\liana\\\\AppData\\\\Local\\\\Temp\\\\tmpnnyebza5.wav'",
     "output_type": "error",
     "traceback": [
      "\u001b[1;31m---------------------------------------------------------------------------\u001b[0m",
      "\u001b[1;31mPermissionError\u001b[0m                           Traceback (most recent call last)",
      "\u001b[1;32mc:\\Users\\liana\\Documents\\Projects\\malaya-speech\\pretrained-model\\prepare-stt\\tfrecord\\ls-tfrecord.ipynb Cell 3'\u001b[0m in \u001b[0;36m<cell line: 10>\u001b[1;34m()\u001b[0m\n\u001b[0;32m     <a href='vscode-notebook-cell:/c%3A/Users/liana/Documents/Projects/malaya-speech/pretrained-model/prepare-stt/tfrecord/ls-tfrecord.ipynb#ch0000002?line=13'>14</a>\u001b[0m \u001b[39m# stream = io.BytesIO()\u001b[39;00m\n\u001b[0;32m     <a href='vscode-notebook-cell:/c%3A/Users/liana/Documents/Projects/malaya-speech/pretrained-model/prepare-stt/tfrecord/ls-tfrecord.ipynb#ch0000002?line=14'>15</a>\u001b[0m \u001b[39m# w = f.export(stream, format='wav')\u001b[39;00m\n\u001b[0;32m     <a href='vscode-notebook-cell:/c%3A/Users/liana/Documents/Projects/malaya-speech/pretrained-model/prepare-stt/tfrecord/ls-tfrecord.ipynb#ch0000002?line=15'>16</a>\u001b[0m \u001b[39m# print(stream.read())\u001b[39;00m\n\u001b[0;32m     <a href='vscode-notebook-cell:/c%3A/Users/liana/Documents/Projects/malaya-speech/pretrained-model/prepare-stt/tfrecord/ls-tfrecord.ipynb#ch0000002?line=16'>17</a>\u001b[0m \u001b[39m# os.chmod(stream.read(), 755)\u001b[39;00m\n\u001b[0;32m     <a href='vscode-notebook-cell:/c%3A/Users/liana/Documents/Projects/malaya-speech/pretrained-model/prepare-stt/tfrecord/ls-tfrecord.ipynb#ch0000002?line=17'>18</a>\u001b[0m os\u001b[39m.\u001b[39mchmod(a, \u001b[39m755\u001b[39m)\n\u001b[1;32m---> <a href='vscode-notebook-cell:/c%3A/Users/liana/Documents/Projects/malaya-speech/pretrained-model/prepare-stt/tfrecord/ls-tfrecord.ipynb#ch0000002?line=18'>19</a>\u001b[0m playback\u001b[39m.\u001b[39;49mplay(f)\n\u001b[0;32m     <a href='vscode-notebook-cell:/c%3A/Users/liana/Documents/Projects/malaya-speech/pretrained-model/prepare-stt/tfrecord/ls-tfrecord.ipynb#ch0000002?line=19'>20</a>\u001b[0m \u001b[39mbreak\u001b[39;00m\n",
      "File \u001b[1;32mc:\\Users\\liana\\Documents\\Projects\\malaya-speech\\malaya-speech-venv\\lib\\site-packages\\pydub\\playback.py:71\u001b[0m, in \u001b[0;36mplay\u001b[1;34m(audio_segment)\u001b[0m\n\u001b[0;32m     68\u001b[0m \u001b[39melse\u001b[39;00m:\n\u001b[0;32m     69\u001b[0m     \u001b[39mreturn\u001b[39;00m\n\u001b[1;32m---> 71\u001b[0m _play_with_ffplay(audio_segment)\n",
      "File \u001b[1;32mc:\\Users\\liana\\Documents\\Projects\\malaya-speech\\malaya-speech-venv\\lib\\site-packages\\pydub\\playback.py:15\u001b[0m, in \u001b[0;36m_play_with_ffplay\u001b[1;34m(seg)\u001b[0m\n\u001b[0;32m     13\u001b[0m PLAYER \u001b[39m=\u001b[39m get_player_name()\n\u001b[0;32m     14\u001b[0m \u001b[39mwith\u001b[39;00m NamedTemporaryFile(\u001b[39m\"\u001b[39m\u001b[39mw+b\u001b[39m\u001b[39m\"\u001b[39m, suffix\u001b[39m=\u001b[39m\u001b[39m\"\u001b[39m\u001b[39m.wav\u001b[39m\u001b[39m\"\u001b[39m) \u001b[39mas\u001b[39;00m f:\n\u001b[1;32m---> 15\u001b[0m     seg\u001b[39m.\u001b[39;49mexport(f\u001b[39m.\u001b[39;49mname, \u001b[39m\"\u001b[39;49m\u001b[39mwav\u001b[39;49m\u001b[39m\"\u001b[39;49m)\n\u001b[0;32m     16\u001b[0m     subprocess\u001b[39m.\u001b[39mcall([PLAYER, \u001b[39m\"\u001b[39m\u001b[39m-nodisp\u001b[39m\u001b[39m\"\u001b[39m, \u001b[39m\"\u001b[39m\u001b[39m-autoexit\u001b[39m\u001b[39m\"\u001b[39m, \u001b[39m\"\u001b[39m\u001b[39m-hide_banner\u001b[39m\u001b[39m\"\u001b[39m, f\u001b[39m.\u001b[39mname])\n",
      "File \u001b[1;32mc:\\Users\\liana\\Documents\\Projects\\malaya-speech\\malaya-speech-venv\\lib\\site-packages\\pydub\\audio_segment.py:867\u001b[0m, in \u001b[0;36mAudioSegment.export\u001b[1;34m(self, out_f, format, codec, bitrate, parameters, tags, id3v2_version, cover)\u001b[0m\n\u001b[0;32m    861\u001b[0m \u001b[39mif\u001b[39;00m \u001b[39mformat\u001b[39m \u001b[39m==\u001b[39m \u001b[39m\"\u001b[39m\u001b[39mraw\u001b[39m\u001b[39m\"\u001b[39m \u001b[39mand\u001b[39;00m (codec \u001b[39mis\u001b[39;00m \u001b[39mnot\u001b[39;00m \u001b[39mNone\u001b[39;00m \u001b[39mor\u001b[39;00m parameters \u001b[39mis\u001b[39;00m \u001b[39mnot\u001b[39;00m \u001b[39mNone\u001b[39;00m):\n\u001b[0;32m    862\u001b[0m     \u001b[39mraise\u001b[39;00m \u001b[39mAttributeError\u001b[39;00m(\n\u001b[0;32m    863\u001b[0m             \u001b[39m'\u001b[39m\u001b[39mCan not invoke ffmpeg when export format is \u001b[39m\u001b[39m\"\u001b[39m\u001b[39mraw\u001b[39m\u001b[39m\"\u001b[39m\u001b[39m; \u001b[39m\u001b[39m'\u001b[39m\n\u001b[0;32m    864\u001b[0m             \u001b[39m'\u001b[39m\u001b[39mspecify an ffmpeg raw format like format=\u001b[39m\u001b[39m\"\u001b[39m\u001b[39ms16le\u001b[39m\u001b[39m\"\u001b[39m\u001b[39m instead \u001b[39m\u001b[39m'\u001b[39m\n\u001b[0;32m    865\u001b[0m             \u001b[39m'\u001b[39m\u001b[39mor call export(format=\u001b[39m\u001b[39m\"\u001b[39m\u001b[39mraw\u001b[39m\u001b[39m\"\u001b[39m\u001b[39m) with no codec or parameters\u001b[39m\u001b[39m'\u001b[39m)\n\u001b[1;32m--> 867\u001b[0m out_f, _ \u001b[39m=\u001b[39m _fd_or_path_or_tempfile(out_f, \u001b[39m'\u001b[39;49m\u001b[39mwb+\u001b[39;49m\u001b[39m'\u001b[39;49m)\n\u001b[0;32m    868\u001b[0m out_f\u001b[39m.\u001b[39mseek(\u001b[39m0\u001b[39m)\n\u001b[0;32m    870\u001b[0m \u001b[39mif\u001b[39;00m \u001b[39mformat\u001b[39m \u001b[39m==\u001b[39m \u001b[39m\"\u001b[39m\u001b[39mraw\u001b[39m\u001b[39m\"\u001b[39m:\n",
      "File \u001b[1;32mc:\\Users\\liana\\Documents\\Projects\\malaya-speech\\malaya-speech-venv\\lib\\site-packages\\pydub\\utils.py:60\u001b[0m, in \u001b[0;36m_fd_or_path_or_tempfile\u001b[1;34m(fd, mode, tempfile)\u001b[0m\n\u001b[0;32m     57\u001b[0m     close_fd \u001b[39m=\u001b[39m \u001b[39mTrue\u001b[39;00m\n\u001b[0;32m     59\u001b[0m \u001b[39mif\u001b[39;00m \u001b[39misinstance\u001b[39m(fd, basestring):\n\u001b[1;32m---> 60\u001b[0m     fd \u001b[39m=\u001b[39m \u001b[39mopen\u001b[39;49m(fd, mode\u001b[39m=\u001b[39;49mmode)\n\u001b[0;32m     61\u001b[0m     close_fd \u001b[39m=\u001b[39m \u001b[39mTrue\u001b[39;00m\n\u001b[0;32m     63\u001b[0m \u001b[39mtry\u001b[39;00m:\n",
      "\u001b[1;31mPermissionError\u001b[0m: [Errno 13] Permission denied: 'C:\\\\Users\\\\liana\\\\AppData\\\\Local\\\\Temp\\\\tmpnnyebza5.wav'"
     ]
    }
   ],
   "source": [
    "import io\n",
    "from pydub import AudioSegment, playback\n",
    "import os\n",
    "\n",
    "audios = []\n",
    "\n",
    "with open('../../data/ls-audios.txt') as f:\n",
    "    audios = f.read().splitlines()\n",
    "\n",
    "for a in audios:\n",
    "    print(a)\n",
    "    f = AudioSegment.from_file(a, format='flac')\n",
    "    print(f.)\n",
    "    # stream = io.BytesIO()\n",
    "    # w = f.export(stream, format='wav')\n",
    "    # print(stream.read())\n",
    "    # os.chmod(stream.read(), 755)\n",
    "    os.chmod(a, 755)\n",
    "    playback.play(f)\n",
    "    break"
   ]
  }
 ],
 "metadata": {
  "kernelspec": {
   "display_name": "Python 3.8.10 64-bit (system)",
   "language": "python",
   "name": "python3"
  },
  "language_info": {
   "codemirror_mode": {
    "name": "ipython",
    "version": 3
   },
   "file_extension": ".py",
   "mimetype": "text/x-python",
   "name": "python",
   "nbconvert_exporter": "python",
   "pygments_lexer": "ipython3",
   "version": "3.8.10"
  },
  "orig_nbformat": 4,
  "vscode": {
   "interpreter": {
    "hash": "f26d1033611ca3047e42f0e5898d30dae67588d2874ee6bcffd67244cd1ed880"
   }
  }
 },
 "nbformat": 4,
 "nbformat_minor": 2
}
